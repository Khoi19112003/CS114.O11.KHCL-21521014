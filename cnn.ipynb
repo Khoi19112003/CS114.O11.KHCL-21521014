{
 "cells": [
  {
   "cell_type": "code",
   "execution_count": 1,
   "metadata": {},
   "outputs": [
    {
     "name": "stdout",
     "output_type": "stream",
     "text": [
      "WARNING:tensorflow:From c:\\Users\\Admin\\anaconda3\\Lib\\site-packages\\keras\\src\\losses.py:2976: The name tf.losses.sparse_softmax_cross_entropy is deprecated. Please use tf.compat.v1.losses.sparse_softmax_cross_entropy instead.\n",
      "\n"
     ]
    }
   ],
   "source": [
    "import pandas as pd\n",
    "import numpy as np\n",
    "from sklearn.model_selection import TimeSeriesSplit\n",
    "from keras.layers import LSTM, Dense, Dropout\n",
    "from sklearn.metrics import mean_squared_error, mean_absolute_percentage_error\n",
    "from keras.models import Sequential\n",
    "from tensorflow.keras.utils import plot_model\n",
    "import matplotlib.pyplot as plt"
   ]
  },
  {
   "cell_type": "code",
   "execution_count": 2,
   "metadata": {},
   "outputs": [
    {
     "data": {
      "text/html": [
       "<div>\n",
       "<style scoped>\n",
       "    .dataframe tbody tr th:only-of-type {\n",
       "        vertical-align: middle;\n",
       "    }\n",
       "\n",
       "    .dataframe tbody tr th {\n",
       "        vertical-align: top;\n",
       "    }\n",
       "\n",
       "    .dataframe thead th {\n",
       "        text-align: right;\n",
       "    }\n",
       "</style>\n",
       "<table border=\"1\" class=\"dataframe\">\n",
       "  <thead>\n",
       "    <tr style=\"text-align: right;\">\n",
       "      <th></th>\n",
       "      <th>Date</th>\n",
       "      <th>Price</th>\n",
       "      <th>Open</th>\n",
       "      <th>High</th>\n",
       "      <th>Low</th>\n",
       "      <th>Vol.</th>\n",
       "      <th>Change %</th>\n",
       "      <th>FEDFUNDS</th>\n",
       "      <th>Gold</th>\n",
       "    </tr>\n",
       "  </thead>\n",
       "  <tbody>\n",
       "    <tr>\n",
       "      <th>0</th>\n",
       "      <td>2010-07-18</td>\n",
       "      <td>0.1</td>\n",
       "      <td>0.0</td>\n",
       "      <td>0.1</td>\n",
       "      <td>0.1</td>\n",
       "      <td>0.08</td>\n",
       "      <td>0.00</td>\n",
       "      <td>0.18</td>\n",
       "      <td>1204.7500</td>\n",
       "    </tr>\n",
       "    <tr>\n",
       "      <th>1</th>\n",
       "      <td>2010-07-19</td>\n",
       "      <td>0.1</td>\n",
       "      <td>0.1</td>\n",
       "      <td>0.1</td>\n",
       "      <td>0.1</td>\n",
       "      <td>0.57</td>\n",
       "      <td>0.00</td>\n",
       "      <td>0.18</td>\n",
       "      <td>1190.2500</td>\n",
       "    </tr>\n",
       "    <tr>\n",
       "      <th>2</th>\n",
       "      <td>2010-07-20</td>\n",
       "      <td>0.1</td>\n",
       "      <td>0.1</td>\n",
       "      <td>0.1</td>\n",
       "      <td>0.1</td>\n",
       "      <td>0.26</td>\n",
       "      <td>0.00</td>\n",
       "      <td>0.18</td>\n",
       "      <td>1181.5000</td>\n",
       "    </tr>\n",
       "    <tr>\n",
       "      <th>3</th>\n",
       "      <td>2010-07-21</td>\n",
       "      <td>0.1</td>\n",
       "      <td>0.1</td>\n",
       "      <td>0.1</td>\n",
       "      <td>0.1</td>\n",
       "      <td>0.58</td>\n",
       "      <td>0.00</td>\n",
       "      <td>0.18</td>\n",
       "      <td>1191.2500</td>\n",
       "    </tr>\n",
       "    <tr>\n",
       "      <th>4</th>\n",
       "      <td>2010-07-22</td>\n",
       "      <td>0.1</td>\n",
       "      <td>0.1</td>\n",
       "      <td>0.1</td>\n",
       "      <td>0.1</td>\n",
       "      <td>2.16</td>\n",
       "      <td>0.00</td>\n",
       "      <td>0.18</td>\n",
       "      <td>1187.0000</td>\n",
       "    </tr>\n",
       "    <tr>\n",
       "      <th>...</th>\n",
       "      <td>...</td>\n",
       "      <td>...</td>\n",
       "      <td>...</td>\n",
       "      <td>...</td>\n",
       "      <td>...</td>\n",
       "      <td>...</td>\n",
       "      <td>...</td>\n",
       "      <td>...</td>\n",
       "      <td>...</td>\n",
       "    </tr>\n",
       "    <tr>\n",
       "      <th>4932</th>\n",
       "      <td>2024-01-18</td>\n",
       "      <td>41292.7</td>\n",
       "      <td>42763.5</td>\n",
       "      <td>42908.0</td>\n",
       "      <td>40682.6</td>\n",
       "      <td>70.35</td>\n",
       "      <td>-3.45</td>\n",
       "      <td>5.33</td>\n",
       "      <td>2023.1038</td>\n",
       "    </tr>\n",
       "    <tr>\n",
       "      <th>4933</th>\n",
       "      <td>2024-01-19</td>\n",
       "      <td>41648.0</td>\n",
       "      <td>41293.8</td>\n",
       "      <td>42164.6</td>\n",
       "      <td>40305.4</td>\n",
       "      <td>72.64</td>\n",
       "      <td>0.86</td>\n",
       "      <td>5.33</td>\n",
       "      <td>2029.6244</td>\n",
       "    </tr>\n",
       "    <tr>\n",
       "      <th>4934</th>\n",
       "      <td>2024-01-20</td>\n",
       "      <td>41695.4</td>\n",
       "      <td>41647.6</td>\n",
       "      <td>41858.0</td>\n",
       "      <td>41449.5</td>\n",
       "      <td>22.27</td>\n",
       "      <td>0.11</td>\n",
       "      <td>5.33</td>\n",
       "      <td>2029.6244</td>\n",
       "    </tr>\n",
       "    <tr>\n",
       "      <th>4935</th>\n",
       "      <td>2024-01-21</td>\n",
       "      <td>41583.2</td>\n",
       "      <td>41695.4</td>\n",
       "      <td>41878.0</td>\n",
       "      <td>41504.5</td>\n",
       "      <td>16.11</td>\n",
       "      <td>-0.27</td>\n",
       "      <td>5.33</td>\n",
       "      <td>2029.6244</td>\n",
       "    </tr>\n",
       "    <tr>\n",
       "      <th>4936</th>\n",
       "      <td>2024-01-22</td>\n",
       "      <td>40825.8</td>\n",
       "      <td>41581.7</td>\n",
       "      <td>41684.9</td>\n",
       "      <td>40711.9</td>\n",
       "      <td>30.31</td>\n",
       "      <td>-1.82</td>\n",
       "      <td>5.33</td>\n",
       "      <td>2026.7500</td>\n",
       "    </tr>\n",
       "  </tbody>\n",
       "</table>\n",
       "<p>4937 rows × 9 columns</p>\n",
       "</div>"
      ],
      "text/plain": [
       "           Date    Price     Open     High      Low   Vol.  Change %  \\\n",
       "0    2010-07-18      0.1      0.0      0.1      0.1   0.08      0.00   \n",
       "1    2010-07-19      0.1      0.1      0.1      0.1   0.57      0.00   \n",
       "2    2010-07-20      0.1      0.1      0.1      0.1   0.26      0.00   \n",
       "3    2010-07-21      0.1      0.1      0.1      0.1   0.58      0.00   \n",
       "4    2010-07-22      0.1      0.1      0.1      0.1   2.16      0.00   \n",
       "...         ...      ...      ...      ...      ...    ...       ...   \n",
       "4932 2024-01-18  41292.7  42763.5  42908.0  40682.6  70.35     -3.45   \n",
       "4933 2024-01-19  41648.0  41293.8  42164.6  40305.4  72.64      0.86   \n",
       "4934 2024-01-20  41695.4  41647.6  41858.0  41449.5  22.27      0.11   \n",
       "4935 2024-01-21  41583.2  41695.4  41878.0  41504.5  16.11     -0.27   \n",
       "4936 2024-01-22  40825.8  41581.7  41684.9  40711.9  30.31     -1.82   \n",
       "\n",
       "      FEDFUNDS       Gold  \n",
       "0         0.18  1204.7500  \n",
       "1         0.18  1190.2500  \n",
       "2         0.18  1181.5000  \n",
       "3         0.18  1191.2500  \n",
       "4         0.18  1187.0000  \n",
       "...        ...        ...  \n",
       "4932      5.33  2023.1038  \n",
       "4933      5.33  2029.6244  \n",
       "4934      5.33  2029.6244  \n",
       "4935      5.33  2029.6244  \n",
       "4936      5.33  2026.7500  \n",
       "\n",
       "[4937 rows x 9 columns]"
      ]
     },
     "execution_count": 2,
     "metadata": {},
     "output_type": "execute_result"
    }
   ],
   "source": [
    "df = pd.read_excel(\"./alldata.xlsx\")\n",
    "df"
   ]
  },
  {
   "cell_type": "code",
   "execution_count": 3,
   "metadata": {},
   "outputs": [
    {
     "name": "stdout",
     "output_type": "stream",
     "text": [
      "<class 'pandas.core.frame.DataFrame'>\n",
      "RangeIndex: 4937 entries, 0 to 4936\n",
      "Data columns (total 9 columns):\n",
      " #   Column    Non-Null Count  Dtype         \n",
      "---  ------    --------------  -----         \n",
      " 0   Date      4937 non-null   datetime64[ns]\n",
      " 1   Price     4937 non-null   float64       \n",
      " 2   Open      4937 non-null   float64       \n",
      " 3   High      4937 non-null   float64       \n",
      " 4   Low       4937 non-null   float64       \n",
      " 5   Vol.      4937 non-null   float64       \n",
      " 6   Change %  4937 non-null   float64       \n",
      " 7   FEDFUNDS  4937 non-null   float64       \n",
      " 8   Gold      4937 non-null   float64       \n",
      "dtypes: datetime64[ns](1), float64(8)\n",
      "memory usage: 347.3 KB\n"
     ]
    }
   ],
   "source": [
    "df.info()"
   ]
  },
  {
   "cell_type": "code",
   "execution_count": 4,
   "metadata": {},
   "outputs": [
    {
     "name": "stdout",
     "output_type": "stream",
     "text": [
      "Các hàng có giá trị null:\n",
      "Empty DataFrame\n",
      "Columns: [Date, Price, Open, High, Low, Vol., Change %, FEDFUNDS, Gold]\n",
      "Index: []\n"
     ]
    }
   ],
   "source": [
    "null_rows = df[df.isnull().any(axis=1)]\n",
    "\n",
    "# Hiển thị kết quả\n",
    "print(\"Các hàng có giá trị null:\")\n",
    "print(null_rows)"
   ]
  },
  {
   "cell_type": "code",
   "execution_count": 5,
   "metadata": {},
   "outputs": [
    {
     "data": {
      "text/plain": [
       "<Axes: >"
      ]
     },
     "execution_count": 5,
     "metadata": {},
     "output_type": "execute_result"
    },
    {
     "data": {
      "image/png": "[encoded data removed]",
      "text/plain": [
       "<Figure size 640x480 with 1 Axes>"
      ]
     },
     "metadata": {},
     "output_type": "display_data"
    }
   ],
   "source": [
    "df['Price'].plot()"
   ]
  },
  {
   "cell_type": "code",
   "execution_count": 7,
   "metadata": {},
   "outputs": [
    {
     "data": {
      "text/plain": [
       "array([[ 1.0000000e-01,  0.0000000e+00,  1.0000000e-01, ...,\n",
       "         0.0000000e+00,  1.8000000e-01,  1.2047500e+03],\n",
       "       [ 1.0000000e-01,  1.0000000e-01,  1.0000000e-01, ...,\n",
       "         0.0000000e+00,  1.8000000e-01,  1.1902500e+03],\n",
       "       [ 1.0000000e-01,  1.0000000e-01,  1.0000000e-01, ...,\n",
       "         0.0000000e+00,  1.8000000e-01,  1.1815000e+03],\n",
       "       ...,\n",
       "       [ 4.1695400e+04,  4.1647600e+04,  4.1858000e+04, ...,\n",
       "         1.1000000e-01,  5.3300000e+00,  2.0296244e+03],\n",
       "       [ 4.1583200e+04,  4.1695400e+04,  4.1878000e+04, ...,\n",
       "        -2.7000000e-01,  5.3300000e+00,  2.0296244e+03],\n",
       "       [ 4.0825800e+04,  4.1581700e+04,  4.1684900e+04, ...,\n",
       "        -1.8200000e+00,  5.3300000e+00,  2.0267500e+03]])"
      ]
     },
     "execution_count": 7,
     "metadata": {},
     "output_type": "execute_result"
    }
   ],
   "source": [
    "matrix = df.iloc[:, 1:].to_numpy()\n",
    "matrix"
   ]
  },
  {
   "cell_type": "code",
   "execution_count": 8,
   "metadata": {},
   "outputs": [
    {
     "name": "stdout",
     "output_type": "stream",
     "text": [
      "(4928, 10, 8)\n"
     ]
    }
   ],
   "source": [
    "# Kích thước của sliding window\n",
    "window_size = (10, 8)\n",
    "\n",
    "# List để lưu trữ các window\n",
    "data_list = []\n",
    "\n",
    "# Duyệt qua từng hàng để tạo sliding window\n",
    "for i in range(len(matrix) - window_size[0] + 1):\n",
    "    window = matrix[i:i+window_size[0], :]\n",
    "    data_list.append(window)\n",
    "\n",
    "# Chuyển danh sách thành mảng numpy nếu cần\n",
    "data_list = np.array(data_list)\n",
    "\n",
    "# In thông tin về mảng windows_array\n",
    "print(data_list.shape)\n"
   ]
  },
  {
   "cell_type": "code",
   "execution_count": 12,
   "metadata": {},
   "outputs": [
    {
     "name": "stdout",
     "output_type": "stream",
     "text": [
      "(4550, 10, 8)\n",
      "(378, 10, 8)\n"
     ]
    }
   ],
   "source": [
    "train = data_list[:4550]\n",
    "other = data_list[4550:]\n",
    "\n",
    "print(train.shape)\n",
    "print(other.shape)"
   ]
  },
  {
   "cell_type": "code",
   "execution_count": 13,
   "metadata": {},
   "outputs": [
    {
     "name": "stdout",
     "output_type": "stream",
     "text": [
      "(365, 10, 8)\n",
      "(13, 10, 8)\n"
     ]
    }
   ],
   "source": [
    "val = other[:365]\n",
    "test = other[365:]\n",
    "\n",
    "print(val.shape)\n",
    "print(test.shape)"
   ]
  },
  {
   "cell_type": "code",
   "execution_count": 25,
   "metadata": {},
   "outputs": [
    {
     "name": "stdout",
     "output_type": "stream",
     "text": [
      "(4550, 9, 8)\n",
      "(4550, 1, 8)\n"
     ]
    }
   ],
   "source": [
    "X_train = train[:, :9, :]\n",
    "y_train = train[:, 9:, :]\n",
    "\n",
    "print(X_train.shape)\n",
    "print(y_train.shape)"
   ]
  },
  {
   "cell_type": "code",
   "execution_count": 31,
   "metadata": {},
   "outputs": [
    {
     "name": "stdout",
     "output_type": "stream",
     "text": [
      "(365, 9, 8)\n",
      "(365, 1, 8)\n"
     ]
    }
   ],
   "source": [
    "X_val = val[:, :9, :]\n",
    "y_val = val[:, 9:, :]\n",
    "\n",
    "print(X_val.shape)\n",
    "print(y_val.shape)"
   ]
  },
  {
   "cell_type": "code",
   "execution_count": 32,
   "metadata": {},
   "outputs": [
    {
     "name": "stdout",
     "output_type": "stream",
     "text": [
      "(13, 9, 8)\n",
      "(13, 1, 8)\n"
     ]
    }
   ],
   "source": [
    "X_test = test[:, :9, :]\n",
    "y_test = test[:, 9:, :]\n",
    "\n",
    "print(X_test.shape)\n",
    "print(y_test.shape)"
   ]
  },
  {
   "cell_type": "code",
   "execution_count": 43,
   "metadata": {},
   "outputs": [
    {
     "name": "stdout",
     "output_type": "stream",
     "text": [
      "Model: \"sequential_12\"\n",
      "_________________________________________________________________\n",
      " Layer (type)                Output Shape              Param #   \n",
      "=================================================================\n",
      " conv1d_4 (Conv1D)           (None, 7, 20)             500       \n",
      "                                                                 \n",
      " max_pooling1d_4 (MaxPoolin  (None, 3, 20)             0         \n",
      " g1D)                                                            \n",
      "                                                                 \n",
      " flatten_10 (Flatten)        (None, 60)                0         \n",
      "                                                                 \n",
      " dense_20 (Dense)            (None, 16)                976       \n",
      "                                                                 \n",
      " dense_21 (Dense)            (None, 8)                 136       \n",
      "                                                                 \n",
      "=================================================================\n",
      "Total params: 1612 (6.30 KB)\n",
      "Trainable params: 1612 (6.30 KB)\n",
      "Non-trainable params: 0 (0.00 Byte)\n",
      "_________________________________________________________________\n"
     ]
    }
   ],
   "source": [
    "from tensorflow.keras.models import Sequential\n",
    "from tensorflow.keras.layers import Conv1D, MaxPooling1D, Flatten, Dense\n",
    "from tensorflow.keras.optimizers import Adam\n",
    "\n",
    "# Tạo mô hình\n",
    "model = Sequential()\n",
    "model.add(Conv1D(20, kernel_size=3, activation='relu', input_shape=(9, 8)))\n",
    "model.add(MaxPooling1D(pool_size=2))\n",
    "model.add(Flatten())\n",
    "model.add(Dense(16, activation='relu'))\n",
    "model.add(Dense(8, activation='linear'))\n",
    "\n",
    "# Biên soạn mô hình với hàm mất mát mean_absolute_percentage_error và trình tối ưu Adam\n",
    "model.compile(loss='mean_absolute_percentage_error', optimizer=Adam())\n",
    "\n",
    "# Hiển thị cấu trúc của mô hình\n",
    "model.summary()"
   ]
  },
  {
   "cell_type": "code",
   "execution_count": 44,
   "metadata": {},
   "outputs": [
    {
     "name": "stdout",
     "output_type": "stream",
     "text": [
      "Epoch 1/100\n",
      "285/285 [==============================] - 1s 2ms/step - loss: 2531791360.0000 - val_loss: 483141888.0000\n",
      "Epoch 2/100\n",
      "285/285 [==============================] - 1s 2ms/step - loss: 2013419648.0000 - val_loss: 73349016.0000\n",
      "Epoch 3/100\n",
      "285/285 [==============================] - 1s 2ms/step - loss: 1406487424.0000 - val_loss: 236246672.0000\n",
      "Epoch 4/100\n",
      "285/285 [==============================] - 1s 2ms/step - loss: 973731200.0000 - val_loss: 195385600.0000\n",
      "Epoch 5/100\n",
      "285/285 [==============================] - 1s 2ms/step - loss: 1267922304.0000 - val_loss: 27651384.0000\n",
      "Epoch 6/100\n",
      "285/285 [==============================] - 1s 2ms/step - loss: 765730304.0000 - val_loss: 176758496.0000\n",
      "Epoch 7/100\n",
      "285/285 [==============================] - 1s 2ms/step - loss: 815782400.0000 - val_loss: 18001358.0000\n",
      "Epoch 8/100\n",
      "285/285 [==============================] - 1s 2ms/step - loss: 700381184.0000 - val_loss: 163145872.0000\n",
      "Epoch 9/100\n",
      "285/285 [==============================] - 1s 2ms/step - loss: 592778240.0000 - val_loss: 174501376.0000\n",
      "Epoch 10/100\n",
      "285/285 [==============================] - 1s 2ms/step - loss: 577004800.0000 - val_loss: 195433088.0000\n",
      "Epoch 11/100\n",
      "285/285 [==============================] - 1s 2ms/step - loss: 619148608.0000 - val_loss: 61266112.0000\n",
      "Epoch 12/100\n",
      "285/285 [==============================] - 1s 2ms/step - loss: 395049344.0000 - val_loss: 21857080.0000\n",
      "Epoch 13/100\n",
      "285/285 [==============================] - 1s 2ms/step - loss: 384432128.0000 - val_loss: 84519392.0000\n",
      "Epoch 14/100\n",
      "285/285 [==============================] - 1s 2ms/step - loss: 277075392.0000 - val_loss: 21790396.0000\n",
      "Epoch 15/100\n",
      "285/285 [==============================] - 1s 2ms/step - loss: 256507696.0000 - val_loss: 30701478.0000\n",
      "Epoch 16/100\n",
      "285/285 [==============================] - 1s 2ms/step - loss: 264216528.0000 - val_loss: 11475241.0000\n",
      "Epoch 17/100\n",
      "285/285 [==============================] - 1s 2ms/step - loss: 162298464.0000 - val_loss: 10470188.0000\n",
      "Epoch 18/100\n",
      "285/285 [==============================] - 1s 2ms/step - loss: 152578416.0000 - val_loss: 21394512.0000\n",
      "Epoch 19/100\n",
      "285/285 [==============================] - 1s 2ms/step - loss: 141318272.0000 - val_loss: 9503987.0000\n",
      "Epoch 20/100\n",
      "285/285 [==============================] - 1s 2ms/step - loss: 117821576.0000 - val_loss: 6937563.0000\n",
      "Epoch 21/100\n",
      "285/285 [==============================] - 1s 2ms/step - loss: 98623688.0000 - val_loss: 6996999.0000\n",
      "Epoch 22/100\n",
      "285/285 [==============================] - 1s 2ms/step - loss: 70568592.0000 - val_loss: 788.1779\n",
      "Epoch 23/100\n",
      "285/285 [==============================] - 1s 2ms/step - loss: 7646413.5000 - val_loss: 535.4908\n",
      "Epoch 24/100\n",
      "285/285 [==============================] - 1s 2ms/step - loss: 9228491.0000 - val_loss: 584.1185\n",
      "Epoch 25/100\n",
      "285/285 [==============================] - 1s 2ms/step - loss: 5822084.0000 - val_loss: 108.6416\n",
      "Epoch 26/100\n",
      "285/285 [==============================] - 1s 2ms/step - loss: 4141476.5000 - val_loss: 232.2776\n",
      "Epoch 27/100\n",
      "285/285 [==============================] - 1s 2ms/step - loss: 4522636.0000 - val_loss: 228.8541\n",
      "Epoch 28/100\n",
      "285/285 [==============================] - 1s 2ms/step - loss: 3169828.2500 - val_loss: 263.9789\n",
      "Epoch 29/100\n",
      "285/285 [==============================] - 1s 2ms/step - loss: 4258248.5000 - val_loss: 248.4898\n",
      "Epoch 30/100\n",
      "285/285 [==============================] - 1s 2ms/step - loss: 2917699.7500 - val_loss: 104.2313\n",
      "Epoch 31/100\n",
      "285/285 [==============================] - 1s 2ms/step - loss: 1763362.3750 - val_loss: 580.2509\n",
      "Epoch 32/100\n",
      "285/285 [==============================] - 1s 2ms/step - loss: 1855132.2500 - val_loss: 421.9515\n",
      "Epoch 33/100\n",
      "285/285 [==============================] - 1s 2ms/step - loss: 1416130.1250 - val_loss: 253.1064\n",
      "Epoch 34/100\n",
      "285/285 [==============================] - 1s 2ms/step - loss: 1121325.6250 - val_loss: 279.0190\n",
      "Epoch 35/100\n",
      "285/285 [==============================] - 1s 2ms/step - loss: 947744.6250 - val_loss: 119.2094\n",
      "Epoch 36/100\n",
      "285/285 [==============================] - 1s 2ms/step - loss: 907402.9375 - val_loss: 118.2095\n",
      "Epoch 37/100\n",
      "285/285 [==============================] - 1s 2ms/step - loss: 525121.8125 - val_loss: 158.0468\n",
      "Epoch 38/100\n",
      "285/285 [==============================] - 1s 2ms/step - loss: 588338.2500 - val_loss: 198.5539\n",
      "Epoch 39/100\n",
      "285/285 [==============================] - 1s 2ms/step - loss: 375712.5938 - val_loss: 472.3732\n",
      "Epoch 40/100\n",
      "285/285 [==============================] - 1s 2ms/step - loss: 287963.3750 - val_loss: 188.2713\n",
      "Epoch 41/100\n",
      "285/285 [==============================] - 1s 2ms/step - loss: 208112.3281 - val_loss: 319.6194\n",
      "Epoch 42/100\n",
      "285/285 [==============================] - 1s 2ms/step - loss: 173357.9531 - val_loss: 195.2328\n",
      "Epoch 43/100\n",
      "285/285 [==============================] - 1s 2ms/step - loss: 118651.3750 - val_loss: 125.3241\n",
      "Epoch 44/100\n",
      "285/285 [==============================] - 1s 2ms/step - loss: 108051.9297 - val_loss: 227.4894\n",
      "Epoch 45/100\n",
      "285/285 [==============================] - 1s 2ms/step - loss: 90844.3125 - val_loss: 272.6550\n",
      "Epoch 46/100\n",
      "285/285 [==============================] - 1s 2ms/step - loss: 16216.4834 - val_loss: 210.2417\n",
      "Epoch 47/100\n",
      "285/285 [==============================] - 1s 2ms/step - loss: 10128.8271 - val_loss: 485.6294\n",
      "Epoch 48/100\n",
      "285/285 [==============================] - 1s 2ms/step - loss: 9202.1133 - val_loss: 136.7585\n",
      "Epoch 49/100\n",
      "285/285 [==============================] - 1s 2ms/step - loss: 6216.4736 - val_loss: 152.0115\n",
      "Epoch 50/100\n",
      "285/285 [==============================] - 1s 2ms/step - loss: 7599.0786 - val_loss: 339.6863\n",
      "Epoch 51/100\n",
      "285/285 [==============================] - 1s 2ms/step - loss: 6477.5640 - val_loss: 393.8384\n",
      "Epoch 52/100\n",
      "285/285 [==============================] - 1s 2ms/step - loss: 7171.9214 - val_loss: 275.3459\n",
      "Epoch 53/100\n",
      "285/285 [==============================] - 1s 2ms/step - loss: 7805.7549 - val_loss: 554.6144\n",
      "Epoch 54/100\n",
      "285/285 [==============================] - 1s 2ms/step - loss: 6022.3633 - val_loss: 668.9245\n",
      "Epoch 55/100\n",
      "285/285 [==============================] - 1s 2ms/step - loss: 8466.7324 - val_loss: 848.1287\n",
      "Epoch 56/100\n",
      "285/285 [==============================] - 1s 2ms/step - loss: 9695.7803 - val_loss: 169.3748\n",
      "Epoch 57/100\n",
      "285/285 [==============================] - 1s 2ms/step - loss: 6562.4824 - val_loss: 257.3429\n",
      "Epoch 58/100\n",
      "285/285 [==============================] - 1s 2ms/step - loss: 7801.1831 - val_loss: 365.5390\n",
      "Epoch 59/100\n",
      "285/285 [==============================] - 1s 2ms/step - loss: 7209.4980 - val_loss: 249.3353\n",
      "Epoch 60/100\n",
      "285/285 [==============================] - 1s 2ms/step - loss: 8089.8965 - val_loss: 161.7524\n",
      "Epoch 61/100\n",
      "285/285 [==============================] - 1s 2ms/step - loss: 5236.7632 - val_loss: 141.4821\n",
      "Epoch 62/100\n",
      "285/285 [==============================] - 1s 2ms/step - loss: 6878.4512 - val_loss: 263.4400\n",
      "Epoch 63/100\n",
      "285/285 [==============================] - 1s 2ms/step - loss: 6126.7793 - val_loss: 344.3791\n",
      "Epoch 64/100\n",
      "285/285 [==============================] - 1s 2ms/step - loss: 7630.6602 - val_loss: 669.5640\n",
      "Epoch 65/100\n",
      "285/285 [==============================] - 1s 2ms/step - loss: 6376.1172 - val_loss: 213.0585\n",
      "Epoch 66/100\n",
      "285/285 [==============================] - 1s 2ms/step - loss: 6623.7441 - val_loss: 235.8401\n",
      "Epoch 67/100\n",
      "285/285 [==============================] - 1s 2ms/step - loss: 5738.3779 - val_loss: 150.6035\n",
      "Epoch 68/100\n",
      "285/285 [==============================] - 1s 2ms/step - loss: 8434.3496 - val_loss: 465.3950\n",
      "Epoch 69/100\n",
      "285/285 [==============================] - 1s 2ms/step - loss: 7224.8721 - val_loss: 223.5485\n",
      "Epoch 70/100\n",
      "285/285 [==============================] - 0s 2ms/step - loss: 5332.4185 - val_loss: 337.3509\n",
      "Epoch 71/100\n",
      "285/285 [==============================] - 0s 2ms/step - loss: 7550.6851 - val_loss: 214.3400\n",
      "Epoch 72/100\n",
      "285/285 [==============================] - 0s 2ms/step - loss: 6570.6875 - val_loss: 468.1765\n",
      "Epoch 73/100\n",
      "285/285 [==============================] - 0s 2ms/step - loss: 9520.8340 - val_loss: 138.4765\n",
      "Epoch 74/100\n",
      "285/285 [==============================] - 0s 2ms/step - loss: 5671.6260 - val_loss: 170.1569\n",
      "Epoch 75/100\n",
      "285/285 [==============================] - 0s 2ms/step - loss: 5949.9907 - val_loss: 433.3498\n",
      "Epoch 76/100\n",
      "285/285 [==============================] - 0s 2ms/step - loss: 4965.6592 - val_loss: 406.6639\n",
      "Epoch 77/100\n",
      "285/285 [==============================] - 1s 2ms/step - loss: 6295.0278 - val_loss: 136.2723\n",
      "Epoch 78/100\n",
      "285/285 [==============================] - 0s 2ms/step - loss: 7521.5088 - val_loss: 163.7466\n",
      "Epoch 79/100\n",
      "285/285 [==============================] - 0s 2ms/step - loss: 4373.5112 - val_loss: 145.7621\n",
      "Epoch 80/100\n",
      "285/285 [==============================] - 0s 2ms/step - loss: 7755.3159 - val_loss: 579.2568\n",
      "Epoch 81/100\n",
      "285/285 [==============================] - 1s 2ms/step - loss: 7284.6323 - val_loss: 145.4502\n",
      "Epoch 82/100\n",
      "285/285 [==============================] - 1s 2ms/step - loss: 6591.8179 - val_loss: 195.9415\n",
      "Epoch 83/100\n",
      "285/285 [==============================] - 0s 2ms/step - loss: 5828.7964 - val_loss: 121.5111\n",
      "Epoch 84/100\n",
      "285/285 [==============================] - 0s 2ms/step - loss: 6716.9888 - val_loss: 308.0661\n",
      "Epoch 85/100\n",
      "285/285 [==============================] - 0s 2ms/step - loss: 5627.3428 - val_loss: 314.3649\n",
      "Epoch 86/100\n",
      "285/285 [==============================] - 0s 2ms/step - loss: 7775.8516 - val_loss: 588.6738\n",
      "Epoch 87/100\n",
      "285/285 [==============================] - 0s 2ms/step - loss: 6368.0933 - val_loss: 280.1715\n",
      "Epoch 88/100\n",
      "285/285 [==============================] - 1s 2ms/step - loss: 6392.9106 - val_loss: 610.3821\n",
      "Epoch 89/100\n",
      "285/285 [==============================] - 1s 2ms/step - loss: 6595.0552 - val_loss: 203.8593\n",
      "Epoch 90/100\n",
      "285/285 [==============================] - 1s 2ms/step - loss: 4564.2505 - val_loss: 301.5203\n",
      "Epoch 91/100\n",
      "285/285 [==============================] - 1s 2ms/step - loss: 4092.6528 - val_loss: 142.4735\n",
      "Epoch 92/100\n",
      "285/285 [==============================] - 1s 2ms/step - loss: 6958.7427 - val_loss: 291.5768\n",
      "Epoch 93/100\n",
      "285/285 [==============================] - 1s 2ms/step - loss: 5637.9336 - val_loss: 526.1708\n",
      "Epoch 94/100\n",
      "285/285 [==============================] - 1s 2ms/step - loss: 7337.8213 - val_loss: 167.2754\n",
      "Epoch 95/100\n",
      "285/285 [==============================] - 1s 2ms/step - loss: 4203.7983 - val_loss: 728.9132\n",
      "Epoch 96/100\n",
      "285/285 [==============================] - 1s 2ms/step - loss: 6759.6035 - val_loss: 193.3451\n",
      "Epoch 97/100\n",
      "285/285 [==============================] - 1s 2ms/step - loss: 5797.7554 - val_loss: 263.8976\n",
      "Epoch 98/100\n",
      "285/285 [==============================] - 1s 2ms/step - loss: 5744.9756 - val_loss: 125.4299\n",
      "Epoch 99/100\n",
      "285/285 [==============================] - 1s 2ms/step - loss: 3940.7590 - val_loss: 143.8304\n",
      "Epoch 100/100\n",
      "285/285 [==============================] - 1s 2ms/step - loss: 3950.6597 - val_loss: 203.4560\n"
     ]
    }
   ],
   "source": [
    "# Huấn luyện mô hình với dữ liệu X_train và y_train, sử dụng dữ liệu validation X_val và y_val\n",
    "history = model.fit(X_train, y_train, epochs=100, batch_size=16, validation_data=(X_val, y_val))"
   ]
  },
  {
   "cell_type": "code",
   "execution_count": 45,
   "metadata": {},
   "outputs": [
    {
     "name": "stdout",
     "output_type": "stream",
     "text": [
      "1/1 [==============================] - 0s 20ms/step - loss: 99.6033\n",
      "Validation Loss: 99.60331726074219\n"
     ]
    },
    {
     "data": {
      "image/png": "[encoded data removed]",
      "text/plain": [
       "<Figure size 640x480 with 1 Axes>"
      ]
     },
     "metadata": {},
     "output_type": "display_data"
    }
   ],
   "source": [
    "# Đánh giá mô hình trên tập validation\n",
    "test_loss = model.evaluate(X_test, y_test)\n",
    "print(f'Validation Loss: {test_loss}')\n",
    "\n",
    "# In biểu đồ sự tiến triển của mô hình\n",
    "import matplotlib.pyplot as plt\n",
    "    \n",
    "plt.plot(history.history['loss'], label='Training Loss')\n",
    "plt.plot(history.history['val_loss'], label='Validation Loss')\n",
    "plt.xlabel('Epoch')\n",
    "plt.ylabel('Loss')\n",
    "plt.legend()\n",
    "plt.show()"
   ]
  },
  {
   "cell_type": "code",
   "execution_count": 46,
   "metadata": {},
   "outputs": [
    {
     "name": "stdout",
     "output_type": "stream",
     "text": [
      "1/1 [==============================] - 0s 52ms/step\n",
      "Mean Absolute Percentage Error on Test Set: 99.60%\n"
     ]
    }
   ],
   "source": [
    "y_pred = model.predict(X_test)\n",
    "\n",
    "# Chuyển đổi dữ liệu về dạng 1D để sử dụng hàm mean_absolute_error\n",
    "y_test_flat = np.reshape(y_test, (-1,))\n",
    "y_pred_flat = np.reshape(y_pred, (-1,))\n",
    "\n",
    "# Tính mean_absolute_percentage_error\n",
    "mape = mean_absolute_percentage_error(y_test_flat, y_pred_flat) * 100\n",
    "\n",
    "print(f'Mean Absolute Percentage Error on Test Set: {mape:.2f}%')"
   ]
  }
 ],
 "metadata": {
  "kernelspec": {
   "display_name": "base",
   "language": "python",
   "name": "python3"
  },
  "language_info": {
   "codemirror_mode": {
    "name": "ipython",
    "version": 3
   },
   "file_extension": ".py",
   "mimetype": "text/x-python",
   "name": "python",
   "nbconvert_exporter": "python",
   "pygments_lexer": "ipython3",
   "version": "3.11.5"
  }
 },
 "nbformat": 4,
 "nbformat_minor": 2
}
